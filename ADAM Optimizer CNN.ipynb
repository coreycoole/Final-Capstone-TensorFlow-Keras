{
 "cells": [
  {
   "cell_type": "code",
   "execution_count": 9,
   "metadata": {},
   "outputs": [],
   "source": [
    "from keras.preprocessing.image import ImageDataGenerator, load_img\n",
    "from keras.models import Sequential\n",
    "from keras.layers import Conv2D, MaxPooling2D\n",
    "from keras.layers import Activation, Dropout, Flatten, Dense, Input\n",
    "from keras.layers import ZeroPadding2D, SeparableConv2D\n",
    "from keras import backend as K\n",
    "from keras.models import Model\n",
    "from keras.callbacks import ModelCheckpoint, Callback, EarlyStopping, ReduceLROnPlateau\n",
    "from keras.layers.normalization import BatchNormalization\n",
    "from keras.optimizers import Adam\n",
    "\n",
    "import os\n",
    "import cv2\n",
    "import skimage\n",
    "import numpy as np\n",
    "import pandas as pd\n",
    "import seaborn as sns\n",
    "import plotly.tools as tls\n",
    "import collections\n",
    "import matplotlib.pyplot as plt\n",
    "from sklearn.model_selection import train_test_split\n",
    "from tqdm import tqdm\n",
    "from pathlib import Path\n",
    "from keras.utils import to_categorical\n",
    "from sklearn.metrics import roc_auc_score,roc_curve,accuracy_score,recall_score,confusion_matrix,classification_report\n",
    "\n",
    "import matplotlib.pyplot as plt\n",
    "%matplotlib inline"
   ]
  },
  {
   "cell_type": "code",
   "execution_count": 2,
   "metadata": {},
   "outputs": [],
   "source": [
    "from tensorflow import set_random_seed\n",
    "\n",
    "os.environ['PYTHONHASHSEED'] = \"0\"\n",
    "np.random.seed(1)\n",
    "set_random_seed(2)"
   ]
  },
  {
   "cell_type": "code",
   "execution_count": 3,
   "metadata": {},
   "outputs": [],
   "source": [
    "train_data_dir = '/Users/coreycoole/Desktop/chest_xray/train'\n",
    "validation_data_dir = '/Users/coreycoole/Desktop/chest_xray/val'\n",
    "test_data_dir = '/Users/coreycoole/Desktop/chest_xray/test'"
   ]
  },
  {
   "cell_type": "code",
   "execution_count": 4,
   "metadata": {},
   "outputs": [],
   "source": [
    "# dimensions of our images.\n",
    "img_width, img_height = 150, 150"
   ]
  },
  {
   "cell_type": "code",
   "execution_count": 5,
   "metadata": {},
   "outputs": [],
   "source": [
    "nb_train_samples = 5217\n",
    "nb_validation_samples = 17\n",
    "epochs = 20\n",
    "batch_size = 16"
   ]
  },
  {
   "cell_type": "code",
   "execution_count": 6,
   "metadata": {},
   "outputs": [],
   "source": [
    "if K.image_data_format() == 'channels_first':\n",
    "    input_shape = (1, img_width, img_height)\n",
    "else:\n",
    "    input_shape = (img_width, img_height, 1)"
   ]
  },
  {
   "cell_type": "code",
   "execution_count": 7,
   "metadata": {},
   "outputs": [],
   "source": [
    "# this is the augmentation configuration we will use for training\n",
    "gen = ImageDataGenerator(\n",
    "    rescale=1. / 255,\n",
    "    shear_range=0.2,\n",
    "    zoom_range=0.2,\n",
    "    horizontal_flip=True)"
   ]
  },
  {
   "cell_type": "code",
   "execution_count": 8,
   "metadata": {},
   "outputs": [],
   "source": [
    "# this is the augmentation configuration we will use for testing:\n",
    "# only rescaling\n",
    "test_gen = ImageDataGenerator(rescale=1. / 255)"
   ]
  },
  {
   "cell_type": "code",
   "execution_count": 12,
   "metadata": {},
   "outputs": [],
   "source": [
    "def cnn_model_adam():\n",
    "    model = Sequential()\n",
    "    model.add(Conv2D(32, (3, 3), input_shape=input_shape))\n",
    "    model.add(Activation('relu'))\n",
    "    model.add(MaxPooling2D(pool_size=(2, 2)))\n",
    "\n",
    "    model.add(Conv2D(32, (3, 3)))\n",
    "    model.add(Activation('relu'))\n",
    "    model.add(MaxPooling2D(pool_size=(2, 2)))\n",
    "\n",
    "    model.add(Conv2D(64, (3, 3)))\n",
    "    model.add(Activation('relu'))\n",
    "    model.add(MaxPooling2D(pool_size=(2, 2)))\n",
    "\n",
    "    model.add(Flatten())\n",
    "    model.add(Dense(64))\n",
    "    model.add(Activation('relu'))\n",
    "    model.add(Dropout(0.5))\n",
    "    model.add(Dense(2))\n",
    "    model.add(Activation('sigmoid'))\n",
    "    \n",
    "    opt = Adam(lr=0.001, beta_1=0.9, beta_2=0.999, amsgrad=False)\n",
    "    \n",
    "    model.compile(loss='binary_crossentropy',\n",
    "              optimizer=opt,\n",
    "              metrics=['accuracy'])\n",
    "    \n",
    "    return model"
   ]
  },
  {
   "cell_type": "code",
   "execution_count": 13,
   "metadata": {},
   "outputs": [
    {
     "name": "stdout",
     "output_type": "stream",
     "text": [
      "Model: \"sequential_2\"\n",
      "_________________________________________________________________\n",
      "Layer (type)                 Output Shape              Param #   \n",
      "=================================================================\n",
      "conv2d_4 (Conv2D)            (None, 148, 148, 32)      320       \n",
      "_________________________________________________________________\n",
      "activation_6 (Activation)    (None, 148, 148, 32)      0         \n",
      "_________________________________________________________________\n",
      "max_pooling2d_4 (MaxPooling2 (None, 74, 74, 32)        0         \n",
      "_________________________________________________________________\n",
      "conv2d_5 (Conv2D)            (None, 72, 72, 32)        9248      \n",
      "_________________________________________________________________\n",
      "activation_7 (Activation)    (None, 72, 72, 32)        0         \n",
      "_________________________________________________________________\n",
      "max_pooling2d_5 (MaxPooling2 (None, 36, 36, 32)        0         \n",
      "_________________________________________________________________\n",
      "conv2d_6 (Conv2D)            (None, 34, 34, 64)        18496     \n",
      "_________________________________________________________________\n",
      "activation_8 (Activation)    (None, 34, 34, 64)        0         \n",
      "_________________________________________________________________\n",
      "max_pooling2d_6 (MaxPooling2 (None, 17, 17, 64)        0         \n",
      "_________________________________________________________________\n",
      "flatten_2 (Flatten)          (None, 18496)             0         \n",
      "_________________________________________________________________\n",
      "dense_3 (Dense)              (None, 64)                1183808   \n",
      "_________________________________________________________________\n",
      "activation_9 (Activation)    (None, 64)                0         \n",
      "_________________________________________________________________\n",
      "dropout_2 (Dropout)          (None, 64)                0         \n",
      "_________________________________________________________________\n",
      "dense_4 (Dense)              (None, 2)                 130       \n",
      "_________________________________________________________________\n",
      "activation_10 (Activation)   (None, 2)                 0         \n",
      "=================================================================\n",
      "Total params: 1,212,002\n",
      "Trainable params: 1,212,002\n",
      "Non-trainable params: 0\n",
      "_________________________________________________________________\n"
     ]
    }
   ],
   "source": [
    "model = cnn_model_adam()\n",
    "model.summary()"
   ]
  },
  {
   "cell_type": "code",
   "execution_count": 14,
   "metadata": {},
   "outputs": [
    {
     "name": "stdout",
     "output_type": "stream",
     "text": [
      "Found 5216 images belonging to 2 classes.\n",
      "Found 16 images belonging to 2 classes.\n",
      "Found 624 images belonging to 2 classes.\n"
     ]
    }
   ],
   "source": [
    "train_batches = gen.flow_from_directory(train_data_dir,model.input_shape[1:3],\n",
    "                                        color_mode=\"grayscale\",shuffle=True,seed=1,\n",
    "                                        batch_size=16)\n",
    "\n",
    "valid_batches = gen.flow_from_directory(validation_data_dir, model.input_shape[1:3],\n",
    "                                        color_mode=\"grayscale\", shuffle=True,seed=1,\n",
    "                                        batch_size=16)\n",
    "\n",
    "test_batches = test_gen.flow_from_directory(test_data_dir, model.input_shape[1:3], shuffle=False,\n",
    "                                       color_mode=\"grayscale\", batch_size=8)"
   ]
  },
  {
   "cell_type": "code",
   "execution_count": 15,
   "metadata": {},
   "outputs": [],
   "source": [
    "filepath = 'cnn_adam.best.weight.hdf5'\n",
    "checkpoint = ModelCheckpoint(filepath, \n",
    "                              monitor='val_loss', \n",
    "                              verbose=2, \n",
    "                              save_best_only=True, \n",
    "                              mode='min')\n",
    "callbacks_list = [checkpoint]"
   ]
  },
  {
   "cell_type": "code",
   "execution_count": 16,
   "metadata": {},
   "outputs": [
    {
     "name": "stdout",
     "output_type": "stream",
     "text": [
      "WARNING:tensorflow:From /Users/coreycoole/anaconda3/lib/python3.7/site-packages/tensorflow/python/ops/math_ops.py:3066: to_int32 (from tensorflow.python.ops.math_ops) is deprecated and will be removed in a future version.\n",
      "Instructions for updating:\n",
      "Use tf.cast instead.\n",
      "Epoch 1/20\n",
      "326/326 [==============================] - 135s 416ms/step - loss: 0.3060 - acc: 0.7249 - val_loss: 0.5195 - val_acc: 0.7500\n",
      "\n",
      "Epoch 00001: val_loss improved from inf to 0.51948, saving model to cnn_adam.best.weight.hdf5\n",
      "Epoch 2/20\n",
      "326/326 [==============================] - 154s 471ms/step - loss: 0.1920 - acc: 0.8656 - val_loss: 0.9356 - val_acc: 0.6250\n",
      "\n",
      "Epoch 00002: val_loss did not improve from 0.51948\n",
      "Epoch 3/20\n",
      "326/326 [==============================] - 145s 446ms/step - loss: 0.1710 - acc: 0.8770 - val_loss: 0.6609 - val_acc: 0.6250\n",
      "\n",
      "Epoch 00003: val_loss did not improve from 0.51948\n",
      "Epoch 4/20\n",
      "326/326 [==============================] - 135s 415ms/step - loss: 0.1528 - acc: 0.8898 - val_loss: 0.7028 - val_acc: 0.8750\n",
      "\n",
      "Epoch 00004: val_loss did not improve from 0.51948\n",
      "Epoch 5/20\n",
      "326/326 [==============================] - 136s 419ms/step - loss: 0.1422 - acc: 0.8997 - val_loss: 0.5840 - val_acc: 0.8125\n",
      "\n",
      "Epoch 00005: val_loss did not improve from 0.51948\n",
      "Epoch 6/20\n",
      "326/326 [==============================] - 131s 400ms/step - loss: 0.1248 - acc: 0.9118 - val_loss: 1.6302 - val_acc: 0.5625\n",
      "\n",
      "Epoch 00006: val_loss did not improve from 0.51948\n",
      "Epoch 7/20\n",
      "326/326 [==============================] - 128s 392ms/step - loss: 0.1230 - acc: 0.9223 - val_loss: 1.0232 - val_acc: 0.7500\n",
      "\n",
      "Epoch 00007: val_loss did not improve from 0.51948\n",
      "Epoch 8/20\n",
      "326/326 [==============================] - 132s 405ms/step - loss: 0.1189 - acc: 0.9196 - val_loss: 0.5799 - val_acc: 0.7500\n",
      "\n",
      "Epoch 00008: val_loss did not improve from 0.51948\n",
      "Epoch 9/20\n",
      "326/326 [==============================] - 136s 416ms/step - loss: 0.1135 - acc: 0.9231 - val_loss: 0.8339 - val_acc: 0.6875\n",
      "\n",
      "Epoch 00009: val_loss did not improve from 0.51948\n",
      "Epoch 10/20\n",
      "326/326 [==============================] - 136s 416ms/step - loss: 0.1112 - acc: 0.9327 - val_loss: 0.9457 - val_acc: 0.6875\n",
      "\n",
      "Epoch 00010: val_loss did not improve from 0.51948\n",
      "Epoch 11/20\n",
      "326/326 [==============================] - 137s 422ms/step - loss: 0.1097 - acc: 0.9300 - val_loss: 0.4315 - val_acc: 0.8125\n",
      "\n",
      "Epoch 00011: val_loss improved from 0.51948 to 0.43153, saving model to cnn_adam.best.weight.hdf5\n",
      "Epoch 12/20\n",
      "326/326 [==============================] - 138s 423ms/step - loss: 0.0962 - acc: 0.9374 - val_loss: 0.2798 - val_acc: 0.9375\n",
      "\n",
      "Epoch 00012: val_loss improved from 0.43153 to 0.27984, saving model to cnn_adam.best.weight.hdf5\n",
      "Epoch 13/20\n",
      "326/326 [==============================] - 140s 430ms/step - loss: 0.0962 - acc: 0.9397 - val_loss: 0.6507 - val_acc: 0.8125\n",
      "\n",
      "Epoch 00013: val_loss did not improve from 0.27984\n",
      "Epoch 14/20\n",
      "326/326 [==============================] - 139s 427ms/step - loss: 0.1010 - acc: 0.9337 - val_loss: 1.0166 - val_acc: 0.6250\n",
      "\n",
      "Epoch 00014: val_loss did not improve from 0.27984\n",
      "Epoch 15/20\n",
      "326/326 [==============================] - 141s 432ms/step - loss: 0.0940 - acc: 0.9360 - val_loss: 0.7347 - val_acc: 0.6875\n",
      "\n",
      "Epoch 00015: val_loss did not improve from 0.27984\n",
      "Epoch 16/20\n",
      "326/326 [==============================] - 141s 434ms/step - loss: 0.0910 - acc: 0.9374 - val_loss: 1.0040 - val_acc: 0.6250\n",
      "\n",
      "Epoch 00016: val_loss did not improve from 0.27984\n",
      "Epoch 17/20\n",
      "326/326 [==============================] - 160s 490ms/step - loss: 0.0856 - acc: 0.9397 - val_loss: 0.5154 - val_acc: 0.8125\n",
      "\n",
      "Epoch 00017: val_loss did not improve from 0.27984\n",
      "Epoch 18/20\n",
      "326/326 [==============================] - 159s 489ms/step - loss: 0.0878 - acc: 0.9420 - val_loss: 0.7005 - val_acc: 0.7500\n",
      "\n",
      "Epoch 00018: val_loss did not improve from 0.27984\n",
      "Epoch 19/20\n",
      "326/326 [==============================] - 146s 447ms/step - loss: 0.0936 - acc: 0.9363 - val_loss: 0.6038 - val_acc: 0.6250\n",
      "\n",
      "Epoch 00019: val_loss did not improve from 0.27984\n",
      "Epoch 20/20\n",
      "326/326 [==============================] - 137s 422ms/step - loss: 0.0894 - acc: 0.9439 - val_loss: 1.2029 - val_acc: 0.5625\n",
      "\n",
      "Epoch 00020: val_loss did not improve from 0.27984\n"
     ]
    }
   ],
   "source": [
    "model = cnn_model_adam()\n",
    "\n",
    "cnn_history = model.fit_generator(train_batches, class_weight={0:1.0, 1:0.4},\n",
    "                                  steps_per_epoch=nb_train_samples // batch_size,\n",
    "                                  epochs=epochs, validation_data=valid_batches,\n",
    "                                  validation_steps=nb_validation_samples // batch_size, \n",
    "                                  callbacks=callbacks_list, verbose=1)"
   ]
  },
  {
   "cell_type": "code",
   "execution_count": 33,
   "metadata": {},
   "outputs": [],
   "source": [
    "from keras.models import load_model\n",
    "\n",
    "#model.save('final_capstone_adam_opt_draft.h5')  # creates a HDF5 file \n",
    "\n",
    "# returns a compiled model\n",
    "# identical to the previous one\n",
    "cnn_adam_history = load_model('final_capstone_adam_opt_draft.h5')"
   ]
  },
  {
   "cell_type": "code",
   "execution_count": 34,
   "metadata": {},
   "outputs": [
    {
     "name": "stdout",
     "output_type": "stream",
     "text": [
      "\n",
      "acc: 90.54%\n"
     ]
    }
   ],
   "source": [
    "# evaluate the model\n",
    "mdl = cnn_adam_history\n",
    "scores = mdl.evaluate_generator(test_batches)\n",
    "print(\"\\n%s: %.2f%%\" % (mdl.metrics_names[1], scores[1]*100))"
   ]
  },
  {
   "cell_type": "code",
   "execution_count": 19,
   "metadata": {},
   "outputs": [],
   "source": [
    "def plot_model(model_history, model_name):\n",
    "    '''\n",
    "    Simple function to plot the loss and accuracy of the validation data.\n",
    "    '''\n",
    "    sns.set_style(\"darkgrid\")\n",
    "    plt.style.use('tableau-colorblind10')\n",
    "    \n",
    "    f, (ax1, ax2) = plt.subplots(1, 2, figsize=(13,6))\n",
    "    \n",
    "    ax1.plot(model_history.history['acc'])\n",
    "    ax1.plot(model_history.history['val_acc'])\n",
    "    ax1.set_title(model_name + ' Model(Rmsprop) Accuracy')\n",
    "    ax1.set_ylabel('accuracy')\n",
    "    ax1.set_xlabel('epoch')\n",
    "\n",
    "    ax2.plot(model_history.history['loss'])\n",
    "    ax2.plot(model_history.history['val_loss'])\n",
    "    ax2.set_title(model_name + ' Model(Rmsprop) Loss')\n",
    "    ax2.set_ylabel('loss')\n",
    "    ax2.set_xlabel('epoch')\n",
    "    ax2.legend(['train', 'test'], loc='upper left')"
   ]
  },
  {
   "cell_type": "code",
   "execution_count": 20,
   "metadata": {},
   "outputs": [
    {
     "data": {
      "image/png": "[encoded data removed]",
      "text/plain": [
       "<Figure size 936x432 with 2 Axes>"
      ]
     },
     "metadata": {},
     "output_type": "display_data"
    }
   ],
   "source": [
    "plot_model(cnn_history, 'CNN')\n",
    "plt.savefig('adam_draft_ACCURACY_LOSS.png')"
   ]
  },
  {
   "cell_type": "code",
   "execution_count": 21,
   "metadata": {},
   "outputs": [
    {
     "name": "stdout",
     "output_type": "stream",
     "text": [
      "(624,)\n"
     ]
    }
   ],
   "source": [
    "p_adam = model.predict(test_batches)\n",
    "preds_adam = np.argmax(p_adam, axis=-1)\n",
    "print(preds_adam.shape)"
   ]
  },
  {
   "cell_type": "code",
   "execution_count": 22,
   "metadata": {},
   "outputs": [
    {
     "data": {
      "text/plain": [
       "array([0, 0, 0, 0, 0, 0, 0, 0, 0, 1, 0, 1, 0, 0, 0, 0, 1, 1, 0, 0, 1, 0,\n",
       "       0, 0, 0, 0, 0, 0, 0, 0, 0, 0, 0, 0, 0, 0, 0, 0, 0, 0, 0, 0, 0, 0,\n",
       "       0, 0, 0, 0, 0, 0, 0, 0, 0, 0, 0, 0, 0, 0, 0, 0, 0, 0, 1, 0, 0, 0,\n",
       "       1, 0, 0, 0, 0, 0, 0, 0, 0, 0, 0, 0, 0, 0, 1, 0, 0, 1, 0, 0, 0, 0,\n",
       "       0, 1, 0, 0, 0, 0, 1, 1, 0, 0, 0, 0, 0, 0, 0, 1, 1, 1, 0, 0, 0, 0,\n",
       "       0, 0, 0, 1, 0, 0, 0, 0, 0, 1, 1, 1, 1, 1, 1, 0, 1, 1, 1, 1, 1, 1,\n",
       "       1, 1, 1, 1, 1, 1, 1, 1, 1, 1, 1, 1, 1, 1, 1, 1, 1, 0, 0, 0, 0, 0,\n",
       "       0, 0, 0, 0, 0, 0, 0, 0, 0, 0, 0, 0, 0, 0, 0, 0, 0, 0, 0, 0, 0, 0,\n",
       "       0, 0, 0, 0, 0, 0, 1, 0, 0, 0, 1, 0, 0, 0, 0, 0, 0, 1, 0, 0, 0, 0,\n",
       "       0, 0, 0, 0, 0, 0, 0, 0, 0, 0, 0, 0, 0, 0, 0, 0, 0, 0, 0, 1, 0, 0,\n",
       "       0, 0, 0, 0, 0, 0, 1, 0, 0, 0, 0, 0, 0, 0, 1, 1, 1, 1, 1, 1, 1, 1,\n",
       "       1, 1, 1, 1, 1, 1, 1, 1, 1, 1, 1, 1, 1, 1, 1, 1, 1, 1, 1, 1, 1, 1,\n",
       "       1, 1, 1, 1, 1, 1, 1, 1, 1, 1, 1, 1, 1, 1, 1, 1, 1, 1, 0, 1, 1, 1,\n",
       "       1, 1, 0, 1, 1, 1, 1, 1, 1, 1, 1, 1, 1, 1, 1, 1, 1, 1, 1, 1, 1, 1,\n",
       "       1, 1, 1, 1, 1, 1, 1, 1, 1, 0, 1, 1, 1, 1, 1, 1, 1, 1, 1, 1, 1, 1,\n",
       "       1, 1, 1, 1, 1, 1, 1, 1, 1, 1, 1, 1, 1, 1, 1, 1, 1, 1, 1, 1, 1, 1,\n",
       "       1, 1, 1, 1, 1, 1, 1, 1, 1, 1, 1, 1, 1, 1, 1, 1, 1, 1, 1, 1, 1, 1,\n",
       "       1, 1, 1, 1, 1, 1, 1, 1, 1, 1, 1, 1, 1, 1, 1, 1, 0, 0, 1, 1, 1, 1,\n",
       "       1, 1, 1, 1, 1, 1, 1, 1, 0, 0, 1, 1, 1, 1, 1, 1, 1, 1, 1, 1, 1, 1,\n",
       "       1, 1, 1, 1, 1, 1, 1, 1, 1, 1, 1, 1, 1, 1, 1, 1, 1, 1, 1, 1, 1, 1,\n",
       "       1, 1, 1, 1, 1, 1, 1, 1, 1, 1, 1, 1, 1, 1, 1, 1, 1, 1, 1, 1, 1, 1,\n",
       "       1, 1, 1, 1, 1, 1, 1, 1, 1, 1, 1, 1, 1, 1, 1, 1, 1, 1, 1, 1, 1, 1,\n",
       "       1, 1, 1, 1, 1, 1, 1, 1, 1, 1, 1, 1, 1, 1, 1, 1, 1, 1, 1, 1, 1, 1,\n",
       "       1, 1, 1, 1, 1, 1, 1, 1, 1, 1, 1, 1, 1, 1, 1, 1, 1, 1, 1, 1, 1, 1,\n",
       "       1, 1, 1, 1, 1, 1, 1, 1, 1, 1, 1, 1, 1, 1, 1, 1, 1, 1, 1, 1, 1, 1,\n",
       "       1, 1, 1, 1, 1, 1, 1, 1, 1, 1, 1, 1, 1, 1, 1, 1, 1, 1, 1, 1, 1, 1,\n",
       "       1, 1, 1, 1, 1, 1, 1, 1, 1, 0, 1, 1, 1, 1, 1, 1, 1, 1, 1, 1, 1, 1,\n",
       "       1, 1, 1, 1, 1, 0, 1, 1, 1, 1, 1, 1, 1, 1, 1, 1, 1, 1, 1, 1, 1, 1,\n",
       "       1, 1, 1, 1, 1, 1, 1, 1])"
      ]
     },
     "execution_count": 22,
     "metadata": {},
     "output_type": "execute_result"
    }
   ],
   "source": [
    "preds_adam"
   ]
  },
  {
   "cell_type": "code",
   "execution_count": 23,
   "metadata": {},
   "outputs": [
    {
     "name": "stdout",
     "output_type": "stream",
     "text": [
      "Loss on test set:  0.4411261019750964\n",
      "Accuracy on test set:  0.87\n"
     ]
    }
   ],
   "source": [
    "test_loss_adam, test_score_adam = model.evaluate_generator(test_batches,steps=100)\n",
    "print(\"Loss on test set: \", test_loss_adam)\n",
    "print(\"Accuracy on test set: \", test_score_adam)"
   ]
  },
  {
   "cell_type": "code",
   "execution_count": 24,
   "metadata": {},
   "outputs": [],
   "source": [
    "CATEGORIES = [\"NORMAL\", \"PNEUMONIA\"]\n",
    "\n",
    "def create_data(directory,data):\n",
    "    for category in CATEGORIES:  # do normal and pneumonia\n",
    "\n",
    "        path = os.path.join(directory,category)  # create path to normal and pneumonia\n",
    "        class_num = CATEGORIES.index(category)  # get the classification  (0 or a 1). 0=normal 1=pneumonia\n",
    "\n",
    "        for img in tqdm(os.listdir(path)):  # iterate over each image per normal and pneumonia\n",
    "            try:\n",
    "                img_array = cv2.imread(os.path.join(path,img) ,cv2.IMREAD_GRAYSCALE)  # convert to array\n",
    "                \n",
    "                data.append([img_array, class_num])  # add this to our training_data\n",
    "            except Exception as e:  # in the interest in keeping the output clean...\n",
    "                pass\n",
    "            #except OSError as e:\n",
    "            #    print(\"OSErrroBad img most likely\", e, os.path.join(path,img))\n",
    "            #except Exception as e:\n",
    "            #    print(\"general exception\", e, os.path.join(path,img))"
   ]
  },
  {
   "cell_type": "code",
   "execution_count": 25,
   "metadata": {},
   "outputs": [
    {
     "name": "stderr",
     "output_type": "stream",
     "text": [
      "100%|██████████| 234/234 [00:03<00:00, 71.65it/s]\n",
      "100%|██████████| 390/390 [00:02<00:00, 136.43it/s]"
     ]
    },
    {
     "name": "stdout",
     "output_type": "stream",
     "text": [
      "Test Data Instances: 624\n"
     ]
    },
    {
     "name": "stderr",
     "output_type": "stream",
     "text": [
      "\n"
     ]
    }
   ],
   "source": [
    "test_data = []\n",
    "\n",
    "create_data(test_data_dir,test_data)\n",
    "\n",
    "print(\"Test Data Instances: {}\".format(len(test_data)))"
   ]
  },
  {
   "cell_type": "code",
   "execution_count": 26,
   "metadata": {},
   "outputs": [],
   "source": [
    "y_test = []\n",
    "\n",
    "for features,label in test_data:\n",
    "    y_test.append(label)"
   ]
  },
  {
   "cell_type": "code",
   "execution_count": 27,
   "metadata": {},
   "outputs": [
    {
     "data": {
      "text/plain": [
       "0.9769230769230769"
      ]
     },
     "execution_count": 27,
     "metadata": {},
     "output_type": "execute_result"
    }
   ],
   "source": [
    "recall_score(y_test,preds_adam)"
   ]
  },
  {
   "cell_type": "code",
   "execution_count": 28,
   "metadata": {},
   "outputs": [
    {
     "name": "stdout",
     "output_type": "stream",
     "text": [
      "              precision    recall  f1-score   support\n",
      "\n",
      "           0       0.95      0.79      0.86       234\n",
      "           1       0.88      0.98      0.93       390\n",
      "\n",
      "    accuracy                           0.91       624\n",
      "   macro avg       0.92      0.88      0.89       624\n",
      "weighted avg       0.91      0.91      0.90       624\n",
      "\n"
     ]
    }
   ],
   "source": [
    "print(classification_report(y_test, preds_adam))"
   ]
  },
  {
   "cell_type": "code",
   "execution_count": 29,
   "metadata": {},
   "outputs": [
    {
     "data": {
      "image/png": "[encoded data removed]",
      "text/plain": [
       "<Figure size 360x360 with 1 Axes>"
      ]
     },
     "metadata": {},
     "output_type": "display_data"
    },
    {
     "data": {
      "text/plain": [
       "<Figure size 432x288 with 0 Axes>"
      ]
     },
     "metadata": {},
     "output_type": "display_data"
    }
   ],
   "source": [
    "CM = confusion_matrix(y_test, preds_adam)\n",
    "from mlxtend.plotting import plot_confusion_matrix\n",
    "fig, ax = plot_confusion_matrix(conf_mat=CM ,  figsize=(5, 5))\n",
    "ax.set_title(' Model(Adam) Confusion Matrix')\n",
    "plt.show()\n",
    "plt.savefig('adam_draft_CONFUSION_MATRIX.png')"
   ]
  },
  {
   "cell_type": "code",
   "execution_count": 30,
   "metadata": {},
   "outputs": [],
   "source": [
    "from sklearn.metrics import roc_curve\n",
    "\n",
    "fpr_adam, tpr_adam, thresholds_adam = roc_curve(y_test, preds_adam)"
   ]
  },
  {
   "cell_type": "code",
   "execution_count": 31,
   "metadata": {},
   "outputs": [],
   "source": [
    "from sklearn.metrics import auc\n",
    "auc_adam = auc(fpr_adam, tpr_adam)"
   ]
  },
  {
   "cell_type": "code",
   "execution_count": 32,
   "metadata": {},
   "outputs": [
    {
     "data": {
      "image/png": "[encoded data removed]",
      "text/plain": [
       "<Figure size 432x288 with 1 Axes>"
      ]
     },
     "metadata": {},
     "output_type": "display_data"
    },
    {
     "data": {
      "text/plain": [
       "<Figure size 432x288 with 0 Axes>"
      ]
     },
     "metadata": {},
     "output_type": "display_data"
    }
   ],
   "source": [
    "plt.figure(1)\n",
    "plt.plot([0, 1], [0, 1], 'k--')\n",
    "plt.plot(fpr_adam, tpr_adam, label='CNN (area = {:.3f})'.format(auc_adam))\n",
    "plt.xlabel('False positive rate')\n",
    "plt.ylabel('True positive rate')\n",
    "plt.title('ROC curve')\n",
    "plt.legend(loc='best')\n",
    "plt.show()\n",
    "plt.savefig('adam_draft_ROC_CURVE.png')"
   ]
  },
  {
   "cell_type": "code",
   "execution_count": null,
   "metadata": {},
   "outputs": [],
   "source": []
  }
 ],
 "metadata": {
  "kernelspec": {
   "display_name": "Python 3",
   "language": "python",
   "name": "python3"
  },
  "language_info": {
   "codemirror_mode": {
    "name": "ipython",
    "version": 3
   },
   "file_extension": ".py",
   "mimetype": "text/x-python",
   "name": "python",
   "nbconvert_exporter": "python",
   "pygments_lexer": "ipython3",
   "version": "3.7.1"
  }
 },
 "nbformat": 4,
 "nbformat_minor": 2
}
