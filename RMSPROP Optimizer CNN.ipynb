{
 "cells": [
  {
   "cell_type": "code",
   "execution_count": 3,
   "metadata": {},
   "outputs": [],
   "source": [
    "from keras.preprocessing.image import ImageDataGenerator, load_img\n",
    "from keras.models import Sequential\n",
    "from keras.layers import Conv2D, MaxPooling2D\n",
    "from keras.layers import Activation, Dropout, Flatten, Dense, Input\n",
    "from keras.layers import ZeroPadding2D, SeparableConv2D\n",
    "from keras import backend as K\n",
    "from keras.models import Model\n",
    "from keras.callbacks import ModelCheckpoint, Callback, EarlyStopping, ReduceLROnPlateau\n",
    "from keras.layers.normalization import BatchNormalization\n",
    "from keras.optimizers import Adam, SGD\n",
    "\n",
    "import os\n",
    "import cv2\n",
    "import skimage\n",
    "import numpy as np\n",
    "import pandas as pd\n",
    "import seaborn as sns\n",
    "import plotly.tools as tls\n",
    "import collections\n",
    "import matplotlib.pyplot as plt\n",
    "from sklearn.model_selection import train_test_split\n",
    "from tqdm import tqdm\n",
    "from pathlib import Path\n",
    "from keras.utils import to_categorical\n",
    "from sklearn.metrics import roc_auc_score,roc_curve,accuracy_score,recall_score,confusion_matrix,classification_report\n",
    "\n",
    "import matplotlib.pyplot as plt\n",
    "%matplotlib inline"
   ]
  },
  {
   "cell_type": "code",
   "execution_count": 4,
   "metadata": {},
   "outputs": [],
   "source": [
    "from tensorflow import set_random_seed\n",
    "\n",
    "os.environ['PYTHONHASHSEED'] = \"0\"\n",
    "np.random.seed(1)\n",
    "set_random_seed(2)"
   ]
  },
  {
   "cell_type": "code",
   "execution_count": 5,
   "metadata": {},
   "outputs": [],
   "source": [
    "train_data_dir = '/Users/coreycoole/Desktop/chest_xray/train'\n",
    "validation_data_dir = '/Users/coreycoole/Desktop/chest_xray/val'\n",
    "test_data_dir = '/Users/coreycoole/Desktop/chest_xray/test'"
   ]
  },
  {
   "cell_type": "code",
   "execution_count": 6,
   "metadata": {},
   "outputs": [],
   "source": [
    "# dimensions of our images.\n",
    "img_width, img_height = 150, 150"
   ]
  },
  {
   "cell_type": "code",
   "execution_count": 7,
   "metadata": {},
   "outputs": [],
   "source": [
    "nb_train_samples = 5217\n",
    "nb_validation_samples = 17\n",
    "epochs = 20\n",
    "batch_size = 16"
   ]
  },
  {
   "cell_type": "code",
   "execution_count": 8,
   "metadata": {},
   "outputs": [],
   "source": [
    "if K.image_data_format() == 'channels_first':\n",
    "    input_shape = (1, img_width, img_height)\n",
    "else:\n",
    "    input_shape = (img_width, img_height, 1)"
   ]
  },
  {
   "cell_type": "code",
   "execution_count": 9,
   "metadata": {},
   "outputs": [],
   "source": [
    "# this is the augmentation configuration we will use for training\n",
    "gen = ImageDataGenerator(\n",
    "    rescale=1. / 255,\n",
    "    shear_range=0.2,\n",
    "    zoom_range=0.2,\n",
    "    horizontal_flip=True)"
   ]
  },
  {
   "cell_type": "code",
   "execution_count": 10,
   "metadata": {},
   "outputs": [],
   "source": [
    "# this is the augmentation configuration we will use for testing:\n",
    "# only rescaling\n",
    "test_gen = ImageDataGenerator(rescale=1. / 255)"
   ]
  },
  {
   "cell_type": "code",
   "execution_count": 11,
   "metadata": {},
   "outputs": [],
   "source": [
    "def cnn_model_rmsprop():\n",
    "    model = Sequential()\n",
    "    model.add(Conv2D(32, (3, 3), input_shape=input_shape))\n",
    "    model.add(Activation('relu'))\n",
    "    model.add(MaxPooling2D(pool_size=(2, 2)))\n",
    "\n",
    "    model.add(Conv2D(32, (3, 3)))\n",
    "    model.add(Activation('relu'))\n",
    "    model.add(MaxPooling2D(pool_size=(2, 2)))\n",
    "\n",
    "    model.add(Conv2D(64, (3, 3)))\n",
    "    model.add(Activation('relu'))\n",
    "    model.add(MaxPooling2D(pool_size=(2, 2)))\n",
    "\n",
    "    model.add(Flatten())\n",
    "    model.add(Dense(64))\n",
    "    model.add(Activation('relu'))\n",
    "    model.add(Dropout(0.5))\n",
    "    model.add(Dense(2))\n",
    "    model.add(Activation('sigmoid'))\n",
    "    \n",
    "    model.compile(loss='binary_crossentropy',\n",
    "              optimizer='rmsprop',\n",
    "              metrics=['accuracy'])\n",
    "    \n",
    "    return model"
   ]
  },
  {
   "cell_type": "code",
   "execution_count": 12,
   "metadata": {},
   "outputs": [
    {
     "name": "stdout",
     "output_type": "stream",
     "text": [
      "Model: \"sequential_1\"\n",
      "_________________________________________________________________\n",
      "Layer (type)                 Output Shape              Param #   \n",
      "=================================================================\n",
      "conv2d_1 (Conv2D)            (None, 148, 148, 32)      320       \n",
      "_________________________________________________________________\n",
      "activation_1 (Activation)    (None, 148, 148, 32)      0         \n",
      "_________________________________________________________________\n",
      "max_pooling2d_1 (MaxPooling2 (None, 74, 74, 32)        0         \n",
      "_________________________________________________________________\n",
      "conv2d_2 (Conv2D)            (None, 72, 72, 32)        9248      \n",
      "_________________________________________________________________\n",
      "activation_2 (Activation)    (None, 72, 72, 32)        0         \n",
      "_________________________________________________________________\n",
      "max_pooling2d_2 (MaxPooling2 (None, 36, 36, 32)        0         \n",
      "_________________________________________________________________\n",
      "conv2d_3 (Conv2D)            (None, 34, 34, 64)        18496     \n",
      "_________________________________________________________________\n",
      "activation_3 (Activation)    (None, 34, 34, 64)        0         \n",
      "_________________________________________________________________\n",
      "max_pooling2d_3 (MaxPooling2 (None, 17, 17, 64)        0         \n",
      "_________________________________________________________________\n",
      "flatten_1 (Flatten)          (None, 18496)             0         \n",
      "_________________________________________________________________\n",
      "dense_1 (Dense)              (None, 64)                1183808   \n",
      "_________________________________________________________________\n",
      "activation_4 (Activation)    (None, 64)                0         \n",
      "_________________________________________________________________\n",
      "dropout_1 (Dropout)          (None, 64)                0         \n",
      "_________________________________________________________________\n",
      "dense_2 (Dense)              (None, 2)                 130       \n",
      "_________________________________________________________________\n",
      "activation_5 (Activation)    (None, 2)                 0         \n",
      "=================================================================\n",
      "Total params: 1,212,002\n",
      "Trainable params: 1,212,002\n",
      "Non-trainable params: 0\n",
      "_________________________________________________________________\n"
     ]
    }
   ],
   "source": [
    "model = cnn_model_rmsprop()\n",
    "model.summary()"
   ]
  },
  {
   "cell_type": "code",
   "execution_count": 13,
   "metadata": {},
   "outputs": [
    {
     "name": "stdout",
     "output_type": "stream",
     "text": [
      "Found 5216 images belonging to 2 classes.\n",
      "Found 16 images belonging to 2 classes.\n",
      "Found 624 images belonging to 2 classes.\n"
     ]
    }
   ],
   "source": [
    "train_batches = gen.flow_from_directory(train_data_dir,model.input_shape[1:3],\n",
    "                                        color_mode=\"grayscale\",shuffle=True,seed=1,\n",
    "                                        batch_size=16)\n",
    "\n",
    "valid_batches = gen.flow_from_directory(validation_data_dir, model.input_shape[1:3],\n",
    "                                        color_mode=\"grayscale\", shuffle=True,seed=1,\n",
    "                                        batch_size=16)\n",
    "\n",
    "test_batches = test_gen.flow_from_directory(test_data_dir, model.input_shape[1:3], shuffle=False,\n",
    "                                       color_mode=\"grayscale\", batch_size=8)"
   ]
  },
  {
   "cell_type": "code",
   "execution_count": 16,
   "metadata": {},
   "outputs": [],
   "source": [
    "filepath = 'cnn_rmsprop.best.weight.hdf5'\n",
    "checkpoint = ModelCheckpoint(filepath, \n",
    "                              monitor='val_loss', \n",
    "                              verbose=2, \n",
    "                              save_best_only=True, \n",
    "                              mode='min')\n",
    "callbacks_list = [checkpoint]"
   ]
  },
  {
   "cell_type": "code",
   "execution_count": 17,
   "metadata": {},
   "outputs": [
    {
     "name": "stdout",
     "output_type": "stream",
     "text": [
      "WARNING:tensorflow:From /Users/coreycoole/anaconda3/lib/python3.7/site-packages/tensorflow/python/ops/math_ops.py:3066: to_int32 (from tensorflow.python.ops.math_ops) is deprecated and will be removed in a future version.\n",
      "Instructions for updating:\n",
      "Use tf.cast instead.\n",
      "Epoch 1/20\n",
      "326/326 [==============================] - 119s 365ms/step - loss: 0.2594 - acc: 0.7998 - val_loss: 0.8599 - val_acc: 0.5312\n",
      "\n",
      "Epoch 00001: val_loss improved from inf to 0.85994, saving model to cnn_rmsprop.best.weight.hdf5\n",
      "Epoch 2/20\n",
      "326/326 [==============================] - 130s 399ms/step - loss: 0.1646 - acc: 0.8858 - val_loss: 0.6934 - val_acc: 0.6562\n",
      "\n",
      "Epoch 00002: val_loss improved from 0.85994 to 0.69339, saving model to cnn_rmsprop.best.weight.hdf5\n",
      "Epoch 3/20\n",
      "326/326 [==============================] - 128s 393ms/step - loss: 0.1403 - acc: 0.9078 - val_loss: 0.4916 - val_acc: 0.6875\n",
      "\n",
      "Epoch 00003: val_loss improved from 0.69339 to 0.49160, saving model to cnn_rmsprop.best.weight.hdf5\n",
      "Epoch 4/20\n",
      "326/326 [==============================] - 118s 361ms/step - loss: 0.1318 - acc: 0.9184 - val_loss: 1.2290 - val_acc: 0.6875\n",
      "\n",
      "Epoch 00004: val_loss did not improve from 0.49160\n",
      "Epoch 5/20\n",
      "326/326 [==============================] - 120s 368ms/step - loss: 0.1279 - acc: 0.9201 - val_loss: 1.8295 - val_acc: 0.5625\n",
      "\n",
      "Epoch 00005: val_loss did not improve from 0.49160\n",
      "Epoch 6/20\n",
      "326/326 [==============================] - 119s 365ms/step - loss: 0.1205 - acc: 0.9312 - val_loss: 0.4996 - val_acc: 0.8750\n",
      "\n",
      "Epoch 00006: val_loss did not improve from 0.49160\n",
      "Epoch 7/20\n",
      "326/326 [==============================] - 115s 353ms/step - loss: 0.1180 - acc: 0.9323 - val_loss: 2.2159 - val_acc: 0.5625\n",
      "\n",
      "Epoch 00007: val_loss did not improve from 0.49160\n",
      "Epoch 8/20\n",
      "326/326 [==============================] - 119s 364ms/step - loss: 0.1170 - acc: 0.9338 - val_loss: 2.0133 - val_acc: 0.6875\n",
      "\n",
      "Epoch 00008: val_loss did not improve from 0.49160\n",
      "Epoch 9/20\n",
      "326/326 [==============================] - 125s 382ms/step - loss: 0.1295 - acc: 0.9278 - val_loss: 0.7288 - val_acc: 0.7500\n",
      "\n",
      "Epoch 00009: val_loss did not improve from 0.49160\n",
      "Epoch 10/20\n",
      "326/326 [==============================] - 127s 391ms/step - loss: 0.1188 - acc: 0.9315 - val_loss: 0.7319 - val_acc: 0.6875\n",
      "\n",
      "Epoch 00010: val_loss did not improve from 0.49160\n",
      "Epoch 11/20\n",
      "326/326 [==============================] - 120s 369ms/step - loss: 0.1190 - acc: 0.9336 - val_loss: 0.7926 - val_acc: 0.5000\n",
      "\n",
      "Epoch 00011: val_loss did not improve from 0.49160\n",
      "Epoch 12/20\n",
      "326/326 [==============================] - 117s 359ms/step - loss: 0.1141 - acc: 0.9394 - val_loss: 1.7247 - val_acc: 0.5000\n",
      "\n",
      "Epoch 00012: val_loss did not improve from 0.49160\n",
      "Epoch 13/20\n",
      "326/326 [==============================] - 115s 353ms/step - loss: 0.1143 - acc: 0.9421 - val_loss: 0.4111 - val_acc: 0.8125\n",
      "\n",
      "Epoch 00013: val_loss improved from 0.49160 to 0.41107, saving model to cnn_rmsprop.best.weight.hdf5\n",
      "Epoch 14/20\n",
      "326/326 [==============================] - 114s 350ms/step - loss: 0.1165 - acc: 0.9366 - val_loss: 0.6896 - val_acc: 0.8125\n",
      "\n",
      "Epoch 00014: val_loss did not improve from 0.41107\n",
      "Epoch 15/20\n",
      "326/326 [==============================] - 116s 356ms/step - loss: 0.1113 - acc: 0.9394 - val_loss: 0.9574 - val_acc: 0.6250\n",
      "\n",
      "Epoch 00015: val_loss did not improve from 0.41107\n",
      "Epoch 16/20\n",
      "326/326 [==============================] - 118s 362ms/step - loss: 0.1150 - acc: 0.9403 - val_loss: 0.9085 - val_acc: 0.6875\n",
      "\n",
      "Epoch 00016: val_loss did not improve from 0.41107\n",
      "Epoch 17/20\n",
      "326/326 [==============================] - 127s 390ms/step - loss: 0.1133 - acc: 0.9374 - val_loss: 0.5099 - val_acc: 0.7500\n",
      "\n",
      "Epoch 00017: val_loss did not improve from 0.41107\n",
      "Epoch 18/20\n",
      "326/326 [==============================] - 131s 402ms/step - loss: 0.1207 - acc: 0.9372 - val_loss: 0.9292 - val_acc: 0.6875\n",
      "\n",
      "Epoch 00018: val_loss did not improve from 0.41107\n",
      "Epoch 19/20\n",
      "326/326 [==============================] - 129s 396ms/step - loss: 0.1225 - acc: 0.9382 - val_loss: 0.6914 - val_acc: 0.7500\n",
      "\n",
      "Epoch 00019: val_loss did not improve from 0.41107\n",
      "Epoch 20/20\n",
      "326/326 [==============================] - 125s 384ms/step - loss: 0.1123 - acc: 0.9381 - val_loss: 1.0916 - val_acc: 0.6875\n",
      "\n",
      "Epoch 00020: val_loss did not improve from 0.41107\n"
     ]
    }
   ],
   "source": [
    "model = cnn_model_rmsprop()\n",
    "\n",
    "cnn_history = model.fit_generator(train_batches, class_weight={0:1.0, 1:0.4},\n",
    "                                  steps_per_epoch=nb_train_samples // batch_size,\n",
    "                                  epochs=epochs, validation_data=valid_batches,\n",
    "                                  validation_steps=nb_validation_samples // batch_size, \n",
    "                                  callbacks=callbacks_list, verbose=1)"
   ]
  },
  {
   "cell_type": "code",
   "execution_count": 15,
   "metadata": {},
   "outputs": [],
   "source": [
    "from keras.models import load_model\n",
    "\n",
    "#model.save('final_capstone_rmsprop_opt_draft.h5')  # creates a HDF5 file \n",
    "\n",
    "# returns a compiled model\n",
    "# identical to the previous one\n",
    "cnn_history = load_model('final_capstone_rmsprop_opt_draft.h5')"
   ]
  },
  {
   "cell_type": "code",
   "execution_count": 16,
   "metadata": {},
   "outputs": [
    {
     "name": "stdout",
     "output_type": "stream",
     "text": [
      "\n",
      "acc: 91.43%\n"
     ]
    }
   ],
   "source": [
    "# evaluate the model\n",
    "model = cnn_history\n",
    "scores = model.evaluate_generator(test_batches)\n",
    "print(\"\\n%s: %.2f%%\" % (model.metrics_names[1], scores[1]*100))"
   ]
  },
  {
   "cell_type": "code",
   "execution_count": 40,
   "metadata": {},
   "outputs": [],
   "source": [
    "def plot_model(model_history, model_name):\n",
    "    '''\n",
    "    Simple function to plot the loss and accuracy of the validation data.\n",
    "    '''\n",
    "    sns.set_style(\"darkgrid\")\n",
    "    plt.style.use('tableau-colorblind10')\n",
    "    \n",
    "    f, (ax1, ax2) = plt.subplots(1, 2, figsize=(13,6))\n",
    "    \n",
    "    ax1.plot(model_history.history['acc'])\n",
    "    ax1.plot(model_history.history['val_acc'])\n",
    "    ax1.set_title(model_name + ' Model(Rmsprop) Accuracy')\n",
    "    ax1.set_ylabel('accuracy')\n",
    "    ax1.set_xlabel('epoch')\n",
    "\n",
    "    ax2.plot(model_history.history['loss'])\n",
    "    ax2.plot(model_history.history['val_loss'])\n",
    "    ax2.set_title(model_name + ' Model(Rmsprop) Loss')\n",
    "    ax2.set_ylabel('loss')\n",
    "    ax2.set_xlabel('epoch')\n",
    "    ax2.legend(['train', 'test'], loc='upper left')"
   ]
  },
  {
   "cell_type": "code",
   "execution_count": 41,
   "metadata": {},
   "outputs": [
    {
     "data": {
      "image/png": "[encoded data removed]",
      "text/plain": [
       "<Figure size 936x432 with 2 Axes>"
      ]
     },
     "metadata": {},
     "output_type": "display_data"
    }
   ],
   "source": [
    "plot_model(cnn_history, 'CNN')\n",
    "plt.savefig('rmsprop_draft_ACCURACY_LOSS.png')"
   ]
  },
  {
   "cell_type": "code",
   "execution_count": 20,
   "metadata": {},
   "outputs": [
    {
     "name": "stdout",
     "output_type": "stream",
     "text": [
      "(624,)\n"
     ]
    }
   ],
   "source": [
    "p_rmsprop = model.predict(test_batches)\n",
    "preds_rmsprop = np.argmax(p_rmsprop, axis=-1)\n",
    "print(preds_rmsprop.shape)"
   ]
  },
  {
   "cell_type": "code",
   "execution_count": 21,
   "metadata": {},
   "outputs": [
    {
     "data": {
      "text/plain": [
       "array([0, 0, 0, 0, 0, 0, 0, 0, 0, 0, 0, 0, 0, 0, 0, 0, 1, 0, 0, 0, 0, 0,\n",
       "       0, 0, 0, 0, 0, 0, 0, 0, 0, 0, 0, 0, 0, 0, 0, 0, 0, 0, 0, 0, 0, 0,\n",
       "       0, 0, 0, 0, 0, 0, 0, 0, 0, 0, 0, 0, 0, 0, 0, 0, 0, 0, 0, 0, 0, 0,\n",
       "       1, 0, 0, 0, 0, 0, 0, 0, 0, 0, 0, 0, 0, 0, 0, 0, 0, 0, 0, 0, 0, 0,\n",
       "       0, 0, 0, 0, 0, 0, 0, 0, 0, 0, 0, 0, 0, 0, 0, 0, 0, 0, 0, 0, 0, 0,\n",
       "       0, 0, 0, 1, 0, 0, 0, 0, 0, 1, 1, 1, 1, 1, 1, 0, 1, 1, 1, 1, 1, 1,\n",
       "       1, 1, 1, 1, 1, 1, 0, 0, 1, 1, 1, 1, 1, 1, 1, 1, 0, 0, 0, 0, 0, 0,\n",
       "       0, 0, 0, 0, 0, 1, 1, 0, 0, 1, 0, 0, 1, 0, 0, 0, 0, 0, 0, 0, 0, 0,\n",
       "       0, 0, 0, 0, 0, 1, 1, 0, 0, 0, 0, 0, 0, 0, 0, 0, 0, 1, 0, 0, 0, 0,\n",
       "       0, 0, 0, 0, 0, 0, 0, 0, 0, 0, 0, 0, 0, 0, 0, 0, 0, 0, 0, 0, 0, 0,\n",
       "       1, 0, 0, 0, 0, 0, 1, 0, 0, 0, 1, 0, 0, 0, 1, 1, 1, 1, 1, 1, 1, 1,\n",
       "       1, 1, 1, 1, 1, 1, 1, 1, 1, 1, 1, 1, 1, 1, 1, 1, 1, 1, 1, 1, 1, 1,\n",
       "       1, 1, 1, 1, 1, 1, 1, 1, 1, 1, 1, 1, 1, 1, 1, 1, 1, 1, 0, 1, 1, 1,\n",
       "       1, 0, 1, 1, 1, 1, 1, 1, 1, 1, 1, 1, 1, 1, 1, 1, 1, 1, 1, 1, 1, 1,\n",
       "       1, 1, 1, 1, 1, 1, 1, 1, 1, 0, 1, 1, 1, 1, 1, 1, 1, 1, 1, 1, 1, 1,\n",
       "       1, 1, 1, 1, 0, 1, 0, 1, 1, 1, 1, 1, 1, 1, 1, 1, 1, 0, 1, 1, 1, 1,\n",
       "       1, 1, 1, 1, 0, 1, 1, 1, 1, 1, 1, 1, 1, 1, 1, 1, 1, 1, 1, 1, 1, 1,\n",
       "       1, 1, 1, 1, 1, 1, 1, 1, 1, 1, 1, 1, 1, 1, 1, 1, 0, 0, 1, 1, 1, 1,\n",
       "       1, 1, 1, 1, 1, 1, 1, 1, 1, 1, 1, 1, 1, 1, 1, 1, 1, 1, 1, 1, 1, 1,\n",
       "       1, 1, 1, 1, 1, 1, 1, 1, 1, 1, 1, 1, 1, 1, 1, 1, 1, 1, 1, 1, 1, 1,\n",
       "       1, 1, 1, 1, 1, 1, 1, 1, 1, 1, 1, 1, 1, 1, 1, 1, 1, 1, 1, 1, 1, 1,\n",
       "       1, 1, 1, 1, 1, 1, 1, 1, 1, 1, 1, 0, 1, 1, 0, 1, 1, 1, 1, 1, 1, 1,\n",
       "       1, 0, 1, 1, 1, 1, 1, 1, 1, 1, 1, 1, 1, 1, 1, 1, 1, 1, 1, 1, 1, 1,\n",
       "       1, 1, 1, 1, 1, 1, 1, 1, 1, 1, 1, 1, 1, 1, 1, 1, 1, 1, 1, 1, 1, 1,\n",
       "       1, 1, 1, 1, 1, 1, 1, 1, 1, 1, 1, 1, 1, 1, 1, 1, 1, 1, 1, 1, 1, 1,\n",
       "       1, 1, 1, 1, 1, 1, 1, 1, 1, 1, 1, 1, 1, 1, 1, 1, 1, 1, 1, 1, 1, 1,\n",
       "       1, 1, 1, 1, 1, 1, 1, 1, 1, 1, 1, 1, 1, 1, 1, 1, 1, 1, 1, 1, 1, 1,\n",
       "       1, 1, 1, 1, 1, 0, 1, 0, 1, 1, 1, 1, 1, 1, 1, 1, 1, 1, 1, 1, 1, 1,\n",
       "       1, 1, 1, 1, 1, 1, 1, 1])"
      ]
     },
     "execution_count": 21,
     "metadata": {},
     "output_type": "execute_result"
    }
   ],
   "source": [
    "preds_rmsprop"
   ]
  },
  {
   "cell_type": "code",
   "execution_count": 22,
   "metadata": {},
   "outputs": [
    {
     "name": "stdout",
     "output_type": "stream",
     "text": [
      "Loss on test set:  0.4927341729600448\n",
      "Accuracy on test set:  0.89125\n"
     ]
    }
   ],
   "source": [
    "test_loss_rsmprop, test_score_rsmprop = model.evaluate_generator(test_batches,steps=100)\n",
    "print(\"Loss on test set: \", test_loss_rsmprop)\n",
    "print(\"Accuracy on test set: \", test_score_rsmprop)"
   ]
  },
  {
   "cell_type": "code",
   "execution_count": 25,
   "metadata": {},
   "outputs": [],
   "source": [
    "def create_data(directory,data):\n",
    "    for category in CATEGORIES:  # do normal and pneumonia\n",
    "\n",
    "        path = os.path.join(directory,category)  # create path to normal and pneumonia\n",
    "        class_num = CATEGORIES.index(category)  # get the classification  (0 or a 1). 0=normal 1=pneumonia\n",
    "\n",
    "        for img in tqdm(os.listdir(path)):  # iterate over each image per normal and pneumonia\n",
    "            try:\n",
    "                img_array = cv2.imread(os.path.join(path,img) ,cv2.IMREAD_GRAYSCALE)  # convert to array\n",
    "                \n",
    "                data.append([img_array, class_num])  # add this to our training_data\n",
    "            except Exception as e:  # in the interest in keeping the output clean...\n",
    "                pass\n",
    "            #except OSError as e:\n",
    "            #    print(\"OSErrroBad img most likely\", e, os.path.join(path,img))\n",
    "            #except Exception as e:\n",
    "            #    print(\"general exception\", e, os.path.join(path,img))"
   ]
  },
  {
   "cell_type": "code",
   "execution_count": 26,
   "metadata": {},
   "outputs": [
    {
     "name": "stderr",
     "output_type": "stream",
     "text": [
      "100%|██████████| 234/234 [00:02<00:00, 80.42it/s]\n",
      "100%|██████████| 390/390 [00:01<00:00, 210.88it/s]"
     ]
    },
    {
     "name": "stdout",
     "output_type": "stream",
     "text": [
      "Test Data Instances: 624\n"
     ]
    },
    {
     "name": "stderr",
     "output_type": "stream",
     "text": [
      "\n"
     ]
    }
   ],
   "source": [
    "test_data = []\n",
    "\n",
    "create_data(test_data_dir,test_data)\n",
    "\n",
    "print(\"Test Data Instances: {}\".format(len(test_data)))"
   ]
  },
  {
   "cell_type": "code",
   "execution_count": 27,
   "metadata": {},
   "outputs": [],
   "source": [
    "y_test = []\n",
    "\n",
    "for features,label in test_data:\n",
    "    y_test.append(label)"
   ]
  },
  {
   "cell_type": "code",
   "execution_count": 29,
   "metadata": {},
   "outputs": [
    {
     "data": {
      "text/plain": [
       "0.9641025641025641"
      ]
     },
     "execution_count": 29,
     "metadata": {},
     "output_type": "execute_result"
    }
   ],
   "source": [
    "recall_score(y_test,preds_rmsprop)"
   ]
  },
  {
   "cell_type": "code",
   "execution_count": 31,
   "metadata": {},
   "outputs": [
    {
     "name": "stdout",
     "output_type": "stream",
     "text": [
      "              precision    recall  f1-score   support\n",
      "\n",
      "           0       0.93      0.83      0.88       234\n",
      "           1       0.91      0.96      0.93       390\n",
      "\n",
      "    accuracy                           0.92       624\n",
      "   macro avg       0.92      0.90      0.91       624\n",
      "weighted avg       0.92      0.92      0.91       624\n",
      "\n"
     ]
    }
   ],
   "source": [
    "print(classification_report(y_test, preds_rmsprop))"
   ]
  },
  {
   "cell_type": "code",
   "execution_count": 46,
   "metadata": {},
   "outputs": [
    {
     "data": {
      "image/png": "[encoded data removed]",
      "text/plain": [
       "<Figure size 360x360 with 1 Axes>"
      ]
     },
     "metadata": {},
     "output_type": "display_data"
    },
    {
     "data": {
      "text/plain": [
       "<Figure size 432x288 with 0 Axes>"
      ]
     },
     "metadata": {},
     "output_type": "display_data"
    }
   ],
   "source": [
    "CM = confusion_matrix(y_test, preds_rmsprop)\n",
    "from mlxtend.plotting import plot_confusion_matrix\n",
    "fig, ax = plot_confusion_matrix(conf_mat=CM ,  figsize=(5, 5))\n",
    "ax.set_title(' Model(Rmsprop) Confusion Matrix')\n",
    "plt.show()\n",
    "plt.savefig('rmsprop_draft_CONFUSION_MATRIX.png')"
   ]
  },
  {
   "cell_type": "code",
   "execution_count": 34,
   "metadata": {},
   "outputs": [],
   "source": [
    "from sklearn.metrics import roc_curve\n",
    "\n",
    "fpr_rmsprop, tpr_rmsprop, thresholds_rmsprop = roc_curve(y_test, preds_rmsprop)"
   ]
  },
  {
   "cell_type": "code",
   "execution_count": 35,
   "metadata": {},
   "outputs": [],
   "source": [
    "from sklearn.metrics import auc\n",
    "auc_rmsprop = auc(fpr_rmsprop, tpr_rmsprop)"
   ]
  },
  {
   "cell_type": "code",
   "execution_count": 43,
   "metadata": {},
   "outputs": [
    {
     "data": {
      "image/png": "[encoded data removed]",
      "text/plain": [
       "<Figure size 432x288 with 1 Axes>"
      ]
     },
     "metadata": {},
     "output_type": "display_data"
    },
    {
     "data": {
      "text/plain": [
       "<Figure size 432x288 with 0 Axes>"
      ]
     },
     "metadata": {},
     "output_type": "display_data"
    }
   ],
   "source": [
    "plt.figure(1)\n",
    "plt.plot([0, 1], [0, 1], 'k--')\n",
    "plt.plot(fpr_rmsprop, tpr_rmsprop, label='CNN (area = {:.3f})'.format(auc_rmsprop))\n",
    "plt.xlabel('False positive rate')\n",
    "plt.ylabel('True positive rate')\n",
    "plt.title('ROC curve')\n",
    "plt.legend(loc='best')\n",
    "plt.show()\n",
    "plt.savefig('rmsprop_draft_ROC_CURVE.png')"
   ]
  },
  {
   "cell_type": "code",
   "execution_count": null,
   "metadata": {},
   "outputs": [],
   "source": []
  }
 ],
 "metadata": {
  "kernelspec": {
   "display_name": "Python 3",
   "language": "python",
   "name": "python3"
  },
  "language_info": {
   "codemirror_mode": {
    "name": "ipython",
    "version": 3
   },
   "file_extension": ".py",
   "mimetype": "text/x-python",
   "name": "python",
   "nbconvert_exporter": "python",
   "pygments_lexer": "ipython3",
   "version": "3.7.1"
  }
 },
 "nbformat": 4,
 "nbformat_minor": 2
}
